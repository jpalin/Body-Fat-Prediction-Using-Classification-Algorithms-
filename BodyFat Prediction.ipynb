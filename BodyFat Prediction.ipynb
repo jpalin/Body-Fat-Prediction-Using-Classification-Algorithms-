{
 "cells": [
  {
   "cell_type": "code",
   "execution_count": 1352,
   "metadata": {},
   "outputs": [],
   "source": [
    "# required imports \n",
    "import pandas as pd\n",
    "import numpy as np\n",
    "import seaborn as sns\n",
    "import matplotlib.pyplot as plt\n",
    "from sklearn.model_selection import train_test_split\n",
    "from sklearn.linear_model import LogisticRegression\n",
    "from sklearn.ensemble import RandomForestClassifier\n",
    "from sklearn.neighbors import KNeighborsClassifier\n",
    "from sklearn.metrics import confusion_matrix\n"
   ]
  },
  {
   "cell_type": "markdown",
   "metadata": {},
   "source": [
    "Import Data and remove irrelevant columns/incorrect data"
   ]
  },
  {
   "cell_type": "code",
   "execution_count": 1353,
   "metadata": {},
   "outputs": [
    {
     "data": {
      "text/html": [
       "<div>\n",
       "<style scoped>\n",
       "    .dataframe tbody tr th:only-of-type {\n",
       "        vertical-align: middle;\n",
       "    }\n",
       "\n",
       "    .dataframe tbody tr th {\n",
       "        vertical-align: top;\n",
       "    }\n",
       "\n",
       "    .dataframe thead th {\n",
       "        text-align: right;\n",
       "    }\n",
       "</style>\n",
       "<table border=\"1\" class=\"dataframe\">\n",
       "  <thead>\n",
       "    <tr style=\"text-align: right;\">\n",
       "      <th></th>\n",
       "      <th>BodyFat</th>\n",
       "      <th>Age</th>\n",
       "      <th>Weight</th>\n",
       "      <th>Height</th>\n",
       "      <th>Neck</th>\n",
       "      <th>Chest</th>\n",
       "      <th>Abdomen</th>\n",
       "      <th>Hip</th>\n",
       "      <th>Thigh</th>\n",
       "      <th>Knee</th>\n",
       "      <th>Ankle</th>\n",
       "      <th>Biceps</th>\n",
       "      <th>Forearm</th>\n",
       "      <th>Wrist</th>\n",
       "    </tr>\n",
       "  </thead>\n",
       "  <tbody>\n",
       "    <tr>\n",
       "      <th>0</th>\n",
       "      <td>12.3</td>\n",
       "      <td>23</td>\n",
       "      <td>154.25</td>\n",
       "      <td>67.75</td>\n",
       "      <td>36.2</td>\n",
       "      <td>93.1</td>\n",
       "      <td>85.2</td>\n",
       "      <td>94.5</td>\n",
       "      <td>59.0</td>\n",
       "      <td>37.3</td>\n",
       "      <td>21.9</td>\n",
       "      <td>32.0</td>\n",
       "      <td>27.4</td>\n",
       "      <td>17.1</td>\n",
       "    </tr>\n",
       "    <tr>\n",
       "      <th>1</th>\n",
       "      <td>6.1</td>\n",
       "      <td>22</td>\n",
       "      <td>173.25</td>\n",
       "      <td>72.25</td>\n",
       "      <td>38.5</td>\n",
       "      <td>93.6</td>\n",
       "      <td>83.0</td>\n",
       "      <td>98.7</td>\n",
       "      <td>58.7</td>\n",
       "      <td>37.3</td>\n",
       "      <td>23.4</td>\n",
       "      <td>30.5</td>\n",
       "      <td>28.9</td>\n",
       "      <td>18.2</td>\n",
       "    </tr>\n",
       "    <tr>\n",
       "      <th>2</th>\n",
       "      <td>25.3</td>\n",
       "      <td>22</td>\n",
       "      <td>154.00</td>\n",
       "      <td>66.25</td>\n",
       "      <td>34.0</td>\n",
       "      <td>95.8</td>\n",
       "      <td>87.9</td>\n",
       "      <td>99.2</td>\n",
       "      <td>59.6</td>\n",
       "      <td>38.9</td>\n",
       "      <td>24.0</td>\n",
       "      <td>28.8</td>\n",
       "      <td>25.2</td>\n",
       "      <td>16.6</td>\n",
       "    </tr>\n",
       "    <tr>\n",
       "      <th>3</th>\n",
       "      <td>10.4</td>\n",
       "      <td>26</td>\n",
       "      <td>184.75</td>\n",
       "      <td>72.25</td>\n",
       "      <td>37.4</td>\n",
       "      <td>101.8</td>\n",
       "      <td>86.4</td>\n",
       "      <td>101.2</td>\n",
       "      <td>60.1</td>\n",
       "      <td>37.3</td>\n",
       "      <td>22.8</td>\n",
       "      <td>32.4</td>\n",
       "      <td>29.4</td>\n",
       "      <td>18.2</td>\n",
       "    </tr>\n",
       "    <tr>\n",
       "      <th>4</th>\n",
       "      <td>28.7</td>\n",
       "      <td>24</td>\n",
       "      <td>184.25</td>\n",
       "      <td>71.25</td>\n",
       "      <td>34.4</td>\n",
       "      <td>97.3</td>\n",
       "      <td>100.0</td>\n",
       "      <td>101.9</td>\n",
       "      <td>63.2</td>\n",
       "      <td>42.2</td>\n",
       "      <td>24.0</td>\n",
       "      <td>32.2</td>\n",
       "      <td>27.7</td>\n",
       "      <td>17.7</td>\n",
       "    </tr>\n",
       "    <tr>\n",
       "      <th>...</th>\n",
       "      <td>...</td>\n",
       "      <td>...</td>\n",
       "      <td>...</td>\n",
       "      <td>...</td>\n",
       "      <td>...</td>\n",
       "      <td>...</td>\n",
       "      <td>...</td>\n",
       "      <td>...</td>\n",
       "      <td>...</td>\n",
       "      <td>...</td>\n",
       "      <td>...</td>\n",
       "      <td>...</td>\n",
       "      <td>...</td>\n",
       "      <td>...</td>\n",
       "    </tr>\n",
       "    <tr>\n",
       "      <th>229</th>\n",
       "      <td>17.0</td>\n",
       "      <td>56</td>\n",
       "      <td>167.75</td>\n",
       "      <td>68.50</td>\n",
       "      <td>37.4</td>\n",
       "      <td>98.6</td>\n",
       "      <td>93.0</td>\n",
       "      <td>97.0</td>\n",
       "      <td>55.4</td>\n",
       "      <td>38.8</td>\n",
       "      <td>23.2</td>\n",
       "      <td>32.4</td>\n",
       "      <td>29.7</td>\n",
       "      <td>19.0</td>\n",
       "    </tr>\n",
       "    <tr>\n",
       "      <th>230</th>\n",
       "      <td>10.6</td>\n",
       "      <td>57</td>\n",
       "      <td>147.75</td>\n",
       "      <td>65.75</td>\n",
       "      <td>35.2</td>\n",
       "      <td>99.6</td>\n",
       "      <td>86.4</td>\n",
       "      <td>90.1</td>\n",
       "      <td>53.0</td>\n",
       "      <td>35.0</td>\n",
       "      <td>21.3</td>\n",
       "      <td>31.7</td>\n",
       "      <td>27.3</td>\n",
       "      <td>16.9</td>\n",
       "    </tr>\n",
       "    <tr>\n",
       "      <th>231</th>\n",
       "      <td>16.1</td>\n",
       "      <td>57</td>\n",
       "      <td>182.25</td>\n",
       "      <td>71.75</td>\n",
       "      <td>39.4</td>\n",
       "      <td>103.4</td>\n",
       "      <td>96.7</td>\n",
       "      <td>100.7</td>\n",
       "      <td>59.3</td>\n",
       "      <td>38.6</td>\n",
       "      <td>22.8</td>\n",
       "      <td>31.8</td>\n",
       "      <td>29.1</td>\n",
       "      <td>19.0</td>\n",
       "    </tr>\n",
       "    <tr>\n",
       "      <th>232</th>\n",
       "      <td>15.4</td>\n",
       "      <td>58</td>\n",
       "      <td>175.50</td>\n",
       "      <td>71.50</td>\n",
       "      <td>38.0</td>\n",
       "      <td>100.2</td>\n",
       "      <td>88.1</td>\n",
       "      <td>97.8</td>\n",
       "      <td>57.1</td>\n",
       "      <td>38.9</td>\n",
       "      <td>23.6</td>\n",
       "      <td>30.9</td>\n",
       "      <td>29.6</td>\n",
       "      <td>18.0</td>\n",
       "    </tr>\n",
       "    <tr>\n",
       "      <th>233</th>\n",
       "      <td>26.7</td>\n",
       "      <td>58</td>\n",
       "      <td>161.75</td>\n",
       "      <td>67.25</td>\n",
       "      <td>35.1</td>\n",
       "      <td>94.9</td>\n",
       "      <td>94.9</td>\n",
       "      <td>100.2</td>\n",
       "      <td>56.8</td>\n",
       "      <td>35.9</td>\n",
       "      <td>21.0</td>\n",
       "      <td>27.8</td>\n",
       "      <td>26.1</td>\n",
       "      <td>17.6</td>\n",
       "    </tr>\n",
       "  </tbody>\n",
       "</table>\n",
       "<p>216 rows × 14 columns</p>\n",
       "</div>"
      ],
      "text/plain": [
       "     BodyFat  Age  Weight  Height  Neck  Chest  Abdomen    Hip  Thigh  Knee  \\\n",
       "0       12.3   23  154.25   67.75  36.2   93.1     85.2   94.5   59.0  37.3   \n",
       "1        6.1   22  173.25   72.25  38.5   93.6     83.0   98.7   58.7  37.3   \n",
       "2       25.3   22  154.00   66.25  34.0   95.8     87.9   99.2   59.6  38.9   \n",
       "3       10.4   26  184.75   72.25  37.4  101.8     86.4  101.2   60.1  37.3   \n",
       "4       28.7   24  184.25   71.25  34.4   97.3    100.0  101.9   63.2  42.2   \n",
       "..       ...  ...     ...     ...   ...    ...      ...    ...    ...   ...   \n",
       "229     17.0   56  167.75   68.50  37.4   98.6     93.0   97.0   55.4  38.8   \n",
       "230     10.6   57  147.75   65.75  35.2   99.6     86.4   90.1   53.0  35.0   \n",
       "231     16.1   57  182.25   71.75  39.4  103.4     96.7  100.7   59.3  38.6   \n",
       "232     15.4   58  175.50   71.50  38.0  100.2     88.1   97.8   57.1  38.9   \n",
       "233     26.7   58  161.75   67.25  35.1   94.9     94.9  100.2   56.8  35.9   \n",
       "\n",
       "     Ankle  Biceps  Forearm  Wrist  \n",
       "0     21.9    32.0     27.4   17.1  \n",
       "1     23.4    30.5     28.9   18.2  \n",
       "2     24.0    28.8     25.2   16.6  \n",
       "3     22.8    32.4     29.4   18.2  \n",
       "4     24.0    32.2     27.7   17.7  \n",
       "..     ...     ...      ...    ...  \n",
       "229   23.2    32.4     29.7   19.0  \n",
       "230   21.3    31.7     27.3   16.9  \n",
       "231   22.8    31.8     29.1   19.0  \n",
       "232   23.6    30.9     29.6   18.0  \n",
       "233   21.0    27.8     26.1   17.6  \n",
       "\n",
       "[216 rows x 14 columns]"
      ]
     },
     "execution_count": 1353,
     "metadata": {},
     "output_type": "execute_result"
    }
   ],
   "source": [
    "bodydata = pd.read_csv('bodyfat.csv')\n",
    "bodydata = bodydata.drop([\"Density\"], axis = 1)\n",
    "bodydata = bodydata[bodydata[\"Age\"] < 60]\n",
    "bodydata"
   ]
  },
  {
   "cell_type": "code",
   "execution_count": 1354,
   "metadata": {},
   "outputs": [
    {
     "data": {
      "text/html": [
       "<div>\n",
       "<style scoped>\n",
       "    .dataframe tbody tr th:only-of-type {\n",
       "        vertical-align: middle;\n",
       "    }\n",
       "\n",
       "    .dataframe tbody tr th {\n",
       "        vertical-align: top;\n",
       "    }\n",
       "\n",
       "    .dataframe thead th {\n",
       "        text-align: right;\n",
       "    }\n",
       "</style>\n",
       "<table border=\"1\" class=\"dataframe\">\n",
       "  <thead>\n",
       "    <tr style=\"text-align: right;\">\n",
       "      <th></th>\n",
       "      <th>BodyFat</th>\n",
       "      <th>Age</th>\n",
       "      <th>Weight</th>\n",
       "      <th>Height</th>\n",
       "      <th>Neck</th>\n",
       "      <th>Chest</th>\n",
       "      <th>Abdomen</th>\n",
       "      <th>Hip</th>\n",
       "      <th>Thigh</th>\n",
       "      <th>Knee</th>\n",
       "      <th>Ankle</th>\n",
       "      <th>Biceps</th>\n",
       "      <th>Forearm</th>\n",
       "      <th>Wrist</th>\n",
       "    </tr>\n",
       "  </thead>\n",
       "  <tbody>\n",
       "    <tr>\n",
       "      <th>min</th>\n",
       "      <td>0.0</td>\n",
       "      <td>22.0</td>\n",
       "      <td>118.50</td>\n",
       "      <td>29.50</td>\n",
       "      <td>31.1</td>\n",
       "      <td>79.3</td>\n",
       "      <td>69.4</td>\n",
       "      <td>85.0</td>\n",
       "      <td>47.2</td>\n",
       "      <td>33.0</td>\n",
       "      <td>19.1</td>\n",
       "      <td>24.8</td>\n",
       "      <td>21.0</td>\n",
       "      <td>15.8</td>\n",
       "    </tr>\n",
       "    <tr>\n",
       "      <th>max</th>\n",
       "      <td>47.5</td>\n",
       "      <td>58.0</td>\n",
       "      <td>363.15</td>\n",
       "      <td>77.75</td>\n",
       "      <td>51.2</td>\n",
       "      <td>136.2</td>\n",
       "      <td>148.1</td>\n",
       "      <td>147.7</td>\n",
       "      <td>87.3</td>\n",
       "      <td>49.1</td>\n",
       "      <td>33.9</td>\n",
       "      <td>45.0</td>\n",
       "      <td>34.9</td>\n",
       "      <td>21.4</td>\n",
       "    </tr>\n",
       "  </tbody>\n",
       "</table>\n",
       "</div>"
      ],
      "text/plain": [
       "     BodyFat   Age  Weight  Height  Neck  Chest  Abdomen    Hip  Thigh  Knee  \\\n",
       "min      0.0  22.0  118.50   29.50  31.1   79.3     69.4   85.0   47.2  33.0   \n",
       "max     47.5  58.0  363.15   77.75  51.2  136.2    148.1  147.7   87.3  49.1   \n",
       "\n",
       "     Ankle  Biceps  Forearm  Wrist  \n",
       "min   19.1    24.8     21.0   15.8  \n",
       "max   33.9    45.0     34.9   21.4  "
      ]
     },
     "execution_count": 1354,
     "metadata": {},
     "output_type": "execute_result"
    }
   ],
   "source": [
    "# max and min values show incorrect height and bodyfat values of 29.5 inches and 0%\n",
    "bodydata.describe().loc[['min', 'max']]"
   ]
  },
  {
   "cell_type": "code",
   "execution_count": 1355,
   "metadata": {},
   "outputs": [],
   "source": [
    "# remove incorrect values\n",
    "bodydata = bodydata.loc[bodydata['BodyFat'] != 0.0]\n",
    "bodydata = bodydata.loc[bodydata['Height'] != 29.50]"
   ]
  },
  {
   "cell_type": "markdown",
   "metadata": {},
   "source": [
    "Creating new features "
   ]
  },
  {
   "cell_type": "code",
   "execution_count": 1356,
   "metadata": {},
   "outputs": [
    {
     "data": {
      "text/html": [
       "<div>\n",
       "<style scoped>\n",
       "    .dataframe tbody tr th:only-of-type {\n",
       "        vertical-align: middle;\n",
       "    }\n",
       "\n",
       "    .dataframe tbody tr th {\n",
       "        vertical-align: top;\n",
       "    }\n",
       "\n",
       "    .dataframe thead th {\n",
       "        text-align: right;\n",
       "    }\n",
       "</style>\n",
       "<table border=\"1\" class=\"dataframe\">\n",
       "  <thead>\n",
       "    <tr style=\"text-align: right;\">\n",
       "      <th></th>\n",
       "      <th>Weight</th>\n",
       "      <th>Height</th>\n",
       "      <th>waist</th>\n",
       "      <th>Ankle</th>\n",
       "      <th>Wrist</th>\n",
       "      <th>heightToWaistRatio</th>\n",
       "      <th>BMI</th>\n",
       "      <th>FrameSizeU</th>\n",
       "      <th>FrameSizeL</th>\n",
       "      <th>Below22%Fat?</th>\n",
       "    </tr>\n",
       "  </thead>\n",
       "  <tbody>\n",
       "    <tr>\n",
       "      <th>0</th>\n",
       "      <td>154.25</td>\n",
       "      <td>67.75</td>\n",
       "      <td>33.543307</td>\n",
       "      <td>21.9</td>\n",
       "      <td>17.1</td>\n",
       "      <td>0.50</td>\n",
       "      <td>23.624460</td>\n",
       "      <td>1</td>\n",
       "      <td>0</td>\n",
       "      <td>yes</td>\n",
       "    </tr>\n",
       "    <tr>\n",
       "      <th>1</th>\n",
       "      <td>173.25</td>\n",
       "      <td>72.25</td>\n",
       "      <td>32.677165</td>\n",
       "      <td>23.4</td>\n",
       "      <td>18.2</td>\n",
       "      <td>0.45</td>\n",
       "      <td>23.332048</td>\n",
       "      <td>1</td>\n",
       "      <td>1</td>\n",
       "      <td>yes</td>\n",
       "    </tr>\n",
       "    <tr>\n",
       "      <th>2</th>\n",
       "      <td>154.00</td>\n",
       "      <td>66.25</td>\n",
       "      <td>34.606299</td>\n",
       "      <td>24.0</td>\n",
       "      <td>16.6</td>\n",
       "      <td>0.52</td>\n",
       "      <td>24.666315</td>\n",
       "      <td>1</td>\n",
       "      <td>1</td>\n",
       "      <td>no</td>\n",
       "    </tr>\n",
       "    <tr>\n",
       "      <th>3</th>\n",
       "      <td>184.75</td>\n",
       "      <td>72.25</td>\n",
       "      <td>34.015748</td>\n",
       "      <td>22.8</td>\n",
       "      <td>18.2</td>\n",
       "      <td>0.47</td>\n",
       "      <td>24.880784</td>\n",
       "      <td>1</td>\n",
       "      <td>0</td>\n",
       "      <td>yes</td>\n",
       "    </tr>\n",
       "    <tr>\n",
       "      <th>4</th>\n",
       "      <td>184.25</td>\n",
       "      <td>71.25</td>\n",
       "      <td>39.370079</td>\n",
       "      <td>24.0</td>\n",
       "      <td>17.7</td>\n",
       "      <td>0.55</td>\n",
       "      <td>25.514854</td>\n",
       "      <td>1</td>\n",
       "      <td>1</td>\n",
       "      <td>no</td>\n",
       "    </tr>\n",
       "    <tr>\n",
       "      <th>...</th>\n",
       "      <td>...</td>\n",
       "      <td>...</td>\n",
       "      <td>...</td>\n",
       "      <td>...</td>\n",
       "      <td>...</td>\n",
       "      <td>...</td>\n",
       "      <td>...</td>\n",
       "      <td>...</td>\n",
       "      <td>...</td>\n",
       "      <td>...</td>\n",
       "    </tr>\n",
       "    <tr>\n",
       "      <th>229</th>\n",
       "      <td>167.75</td>\n",
       "      <td>68.50</td>\n",
       "      <td>36.614173</td>\n",
       "      <td>23.2</td>\n",
       "      <td>19.0</td>\n",
       "      <td>0.53</td>\n",
       "      <td>25.132559</td>\n",
       "      <td>2</td>\n",
       "      <td>1</td>\n",
       "      <td>yes</td>\n",
       "    </tr>\n",
       "    <tr>\n",
       "      <th>230</th>\n",
       "      <td>147.75</td>\n",
       "      <td>65.75</td>\n",
       "      <td>34.015748</td>\n",
       "      <td>21.3</td>\n",
       "      <td>16.9</td>\n",
       "      <td>0.52</td>\n",
       "      <td>24.026544</td>\n",
       "      <td>1</td>\n",
       "      <td>0</td>\n",
       "      <td>yes</td>\n",
       "    </tr>\n",
       "    <tr>\n",
       "      <th>231</th>\n",
       "      <td>182.25</td>\n",
       "      <td>71.75</td>\n",
       "      <td>38.070866</td>\n",
       "      <td>22.8</td>\n",
       "      <td>19.0</td>\n",
       "      <td>0.53</td>\n",
       "      <td>24.887373</td>\n",
       "      <td>2</td>\n",
       "      <td>0</td>\n",
       "      <td>yes</td>\n",
       "    </tr>\n",
       "    <tr>\n",
       "      <th>232</th>\n",
       "      <td>175.50</td>\n",
       "      <td>71.50</td>\n",
       "      <td>34.685039</td>\n",
       "      <td>23.6</td>\n",
       "      <td>18.0</td>\n",
       "      <td>0.49</td>\n",
       "      <td>24.133503</td>\n",
       "      <td>1</td>\n",
       "      <td>1</td>\n",
       "      <td>yes</td>\n",
       "    </tr>\n",
       "    <tr>\n",
       "      <th>233</th>\n",
       "      <td>161.75</td>\n",
       "      <td>67.25</td>\n",
       "      <td>37.362205</td>\n",
       "      <td>21.0</td>\n",
       "      <td>17.6</td>\n",
       "      <td>0.56</td>\n",
       "      <td>25.142881</td>\n",
       "      <td>1</td>\n",
       "      <td>0</td>\n",
       "      <td>no</td>\n",
       "    </tr>\n",
       "  </tbody>\n",
       "</table>\n",
       "<p>214 rows × 10 columns</p>\n",
       "</div>"
      ],
      "text/plain": [
       "     Weight  Height      waist  Ankle  Wrist  heightToWaistRatio        BMI  \\\n",
       "0    154.25   67.75  33.543307   21.9   17.1                0.50  23.624460   \n",
       "1    173.25   72.25  32.677165   23.4   18.2                0.45  23.332048   \n",
       "2    154.00   66.25  34.606299   24.0   16.6                0.52  24.666315   \n",
       "3    184.75   72.25  34.015748   22.8   18.2                0.47  24.880784   \n",
       "4    184.25   71.25  39.370079   24.0   17.7                0.55  25.514854   \n",
       "..      ...     ...        ...    ...    ...                 ...        ...   \n",
       "229  167.75   68.50  36.614173   23.2   19.0                0.53  25.132559   \n",
       "230  147.75   65.75  34.015748   21.3   16.9                0.52  24.026544   \n",
       "231  182.25   71.75  38.070866   22.8   19.0                0.53  24.887373   \n",
       "232  175.50   71.50  34.685039   23.6   18.0                0.49  24.133503   \n",
       "233  161.75   67.25  37.362205   21.0   17.6                0.56  25.142881   \n",
       "\n",
       "     FrameSizeU  FrameSizeL Below22%Fat?  \n",
       "0             1           0          yes  \n",
       "1             1           1          yes  \n",
       "2             1           1           no  \n",
       "3             1           0          yes  \n",
       "4             1           1           no  \n",
       "..          ...         ...          ...  \n",
       "229           2           1          yes  \n",
       "230           1           0          yes  \n",
       "231           2           0          yes  \n",
       "232           1           1          yes  \n",
       "233           1           0           no  \n",
       "\n",
       "[214 rows x 10 columns]"
      ]
     },
     "execution_count": 1356,
     "metadata": {},
     "output_type": "execute_result"
    }
   ],
   "source": [
    "#BMI calculation\n",
    "squareH = bodydata[\"Weight\"] / bodydata[\"Height\"]**2\n",
    "bodydata[\"BMI\"] = squareH * 703\n",
    "\n",
    "#converting waist in cm to waist in inches \n",
    "bodydata[\"waist\"] = bodydata[\"Abdomen\"] / 2.54\n",
    "\n",
    "#calculating height to waist ratio due to research suggesting this ratio acts as a indicator for estimating bodyfat\n",
    "bodydata[\"heightToWaistRatio\"] = round(bodydata[\"waist\"]/bodydata[\"Height\"],2)\n",
    "\n",
    "#calculating upper body frame size from wrist\n",
    "bodydata[\"FrameSizeU\"] = np.where( (bodydata[\"Wrist\"] < 16.5),0, np.where( (bodydata[\"Wrist\"] > 18.5), 2, 1))\n",
    "\n",
    "#calculating lower body frame size from ankle\n",
    "bodydata[\"FrameSizeL\"] = np.where( (bodydata[\"Ankle\"] < 23),0, np.where( (bodydata[\"Ankle\"] > 29), 2, 1))\n",
    "\n",
    "#replacing target value with binary yes or no, this value indicating if the individual is above 30% body fat\n",
    "bodydata[\"Below22%Fat?\"] = np.where( (bodydata[\"BodyFat\"] < 22),'yes', 'no')\n",
    "\n",
    "#selecting required columns \n",
    "bodydata = bodydata[[\"Weight\", \"Height\", \"waist\", \"Ankle\", \"Wrist\", \"heightToWaistRatio\", \"BMI\", \"FrameSizeU\", \"FrameSizeL\",  \"Below22%Fat?\"]]\n",
    "bodydata\n"
   ]
  },
  {
   "cell_type": "markdown",
   "metadata": {},
   "source": [
    "Data exploration "
   ]
  },
  {
   "cell_type": "code",
   "execution_count": 1357,
   "metadata": {},
   "outputs": [
    {
     "data": {
      "text/plain": [
       "(60.0, 80.0)"
      ]
     },
     "execution_count": 1357,
     "metadata": {},
     "output_type": "execute_result"
    },
    {
     "data": {
      "image/png": "[encoded data removed]",
      "text/plain": [
       "<Figure size 432x288 with 1 Axes>"
      ]
     },
     "metadata": {
      "needs_background": "light"
     },
     "output_type": "display_data"
    }
   ],
   "source": [
    "# This plot showed how neither height or weight were good indictors of being in a healthy body fat range\n",
    "sns.scatterplot(data=bodydata, x=\"Weight\", y=\"Height\", hue=\"Below22%Fat?\")\n",
    "plt.xlim(100, 300)\n",
    "plt.ylim(60, 80)"
   ]
  },
  {
   "cell_type": "code",
   "execution_count": 1358,
   "metadata": {},
   "outputs": [
    {
     "data": {
      "text/plain": [
       "(18.0, 35.0)"
      ]
     },
     "execution_count": 1358,
     "metadata": {},
     "output_type": "execute_result"
    },
    {
     "data": {
      "image/png": "[encoded data removed]",
      "text/plain": [
       "<Figure size 432x288 with 1 Axes>"
      ]
     },
     "metadata": {
      "needs_background": "light"
     },
     "output_type": "display_data"
    }
   ],
   "source": [
    "# By calculating BMI and plotting against weight, it can be seen that lower BMI levels tended to be more \n",
    "# prevelant at lower weights as expected. Bodyfat showed a pattern with individuals at lower \n",
    "# bodyfats also having a lower weight and BMI.\n",
    "sns.scatterplot(data=bodydata, x=\"Weight\", y=\"BMI\", hue=\"Below22%Fat?\")\n",
    "plt.xlim(100, 300)\n",
    "plt.ylim(18, 35)"
   ]
  },
  {
   "cell_type": "code",
   "execution_count": 1359,
   "metadata": {},
   "outputs": [
    {
     "data": {
      "text/plain": [
       "(0.3, 0.8)"
      ]
     },
     "execution_count": 1359,
     "metadata": {},
     "output_type": "execute_result"
    },
    {
     "data": {
      "image/png": "[encoded data removed]",
      "text/plain": [
       "<Figure size 432x288 with 1 Axes>"
      ]
     },
     "metadata": {
      "needs_background": "light"
     },
     "output_type": "display_data"
    }
   ],
   "source": [
    "# Replacing BMI with height to waist ratio showed how most indivduals with a 0.5 ratio or lower were in a healthy bodyfat range \n",
    "sns.scatterplot(data=bodydata, x= \"Weight\", y=\"heightToWaistRatio\", hue=\"Below22%Fat?\")\n",
    "plt.xlim(100, 300)\n",
    "plt.ylim(0.3, 0.8)"
   ]
  },
  {
   "cell_type": "code",
   "execution_count": 1360,
   "metadata": {},
   "outputs": [
    {
     "data": {
      "text/plain": [
       "(18.0, 35.0)"
      ]
     },
     "execution_count": 1360,
     "metadata": {},
     "output_type": "execute_result"
    },
    {
     "data": {
      "image/png": "[encoded data removed]",
      "text/plain": [
       "<Figure size 432x288 with 1 Axes>"
      ]
     },
     "metadata": {
      "needs_background": "light"
     },
     "output_type": "display_data"
    }
   ],
   "source": [
    "#Plotting both BMI and height to waist ratio revealed individauls with high levels of tended to be the ones at \n",
    "# unhealthy bodyfat levels. Note how a few individuals from the data set had high BMIs (~30) and high ratios (~0.55)\n",
    "# despite being under 22% bodyfat ( a healthy range for their age). \n",
    "sns.scatterplot(data=bodydata, x= \"heightToWaistRatio\", y=\"BMI\", hue=\"Below22%Fat?\")\n",
    "plt.xlim(0.3, 0.8)\n",
    "plt.ylim(18, 35)"
   ]
  },
  {
   "cell_type": "code",
   "execution_count": 1361,
   "metadata": {},
   "outputs": [],
   "source": [
    "#selecting required columns \n",
    "bodydata = bodydata[[ \"waist\", \"Wrist\", \"heightToWaistRatio\", \"FrameSizeL\", \"FrameSizeU\", \"Below22%Fat?\"]]"
   ]
  },
  {
   "cell_type": "markdown",
   "metadata": {},
   "source": [
    "Selecting dependent and independent variables"
   ]
  },
  {
   "cell_type": "code",
   "execution_count": 1362,
   "metadata": {},
   "outputs": [],
   "source": [
    "#independent variable\n",
    "y = bodydata.loc[:, \"Below22%Fat?\"].values\n",
    "#dependent variable\n",
    "X = bodydata.iloc[:, :-1].values\n"
   ]
  },
  {
   "cell_type": "code",
   "execution_count": 1363,
   "metadata": {},
   "outputs": [
    {
     "data": {
      "text/plain": [
       "array(['yes', 'yes', 'no', 'yes', 'no', 'yes', 'yes', 'yes', 'yes', 'yes',\n",
       "       'yes', 'yes', 'yes', 'yes', 'no', 'yes', 'no', 'no', 'yes', 'yes',\n",
       "       'yes', 'yes', 'yes', 'yes', 'yes', 'yes', 'yes', 'no', 'yes',\n",
       "       'yes', 'yes', 'yes', 'yes', 'yes', 'no', 'no', 'no', 'no', 'no',\n",
       "       'no', 'no', 'no', 'no', 'yes', 'yes', 'yes', 'yes', 'yes', 'yes',\n",
       "       'yes', 'yes', 'yes', 'yes', 'yes', 'no', 'yes', 'no', 'no', 'no',\n",
       "       'no', 'no', 'yes', 'yes', 'yes', 'yes', 'yes', 'yes', 'yes', 'yes',\n",
       "       'yes', 'yes', 'yes', 'yes', 'yes', 'no', 'yes', 'yes', 'yes',\n",
       "       'yes', 'yes', 'no', 'yes', 'yes', 'yes', 'no', 'no', 'yes', 'yes',\n",
       "       'yes', 'yes', 'yes', 'yes', 'no', 'no', 'yes', 'no', 'yes', 'yes',\n",
       "       'yes', 'no', 'yes', 'no', 'no', 'yes', 'yes', 'yes', 'yes', 'no',\n",
       "       'yes', 'yes', 'yes', 'yes', 'no', 'no', 'no', 'no', 'no', 'yes',\n",
       "       'no', 'no', 'yes', 'no', 'yes', 'no', 'yes', 'yes', 'yes', 'yes',\n",
       "       'no', 'yes', 'no', 'yes', 'yes', 'yes', 'yes', 'yes', 'yes', 'no',\n",
       "       'yes', 'yes', 'no', 'yes', 'yes', 'yes', 'yes', 'no', 'yes', 'yes',\n",
       "       'yes', 'no', 'yes', 'yes', 'yes', 'yes', 'yes', 'no', 'yes', 'yes',\n",
       "       'no', 'no', 'yes', 'no', 'yes', 'yes', 'yes', 'yes', 'no', 'yes',\n",
       "       'yes', 'no', 'yes', 'no', 'yes', 'no', 'no', 'no', 'no', 'yes',\n",
       "       'yes', 'no', 'yes', 'no', 'no', 'yes', 'no', 'yes', 'no', 'no',\n",
       "       'yes', 'yes', 'yes', 'no', 'yes', 'yes', 'yes', 'no', 'yes', 'yes',\n",
       "       'no', 'yes', 'yes', 'no', 'yes', 'yes', 'yes', 'yes', 'yes', 'no',\n",
       "       'yes', 'yes', 'yes', 'yes', 'yes', 'no'], dtype=object)"
      ]
     },
     "execution_count": 1363,
     "metadata": {},
     "output_type": "execute_result"
    }
   ],
   "source": [
    "y"
   ]
  },
  {
   "cell_type": "code",
   "execution_count": 1364,
   "metadata": {},
   "outputs": [
    {
     "data": {
      "text/plain": [
       "array([[33.54330709, 17.1       ,  0.5       ,  0.        ,  1.        ],\n",
       "       [32.67716535, 18.2       ,  0.45      ,  1.        ,  1.        ],\n",
       "       [34.60629921, 16.6       ,  0.52      ,  1.        ,  1.        ],\n",
       "       ...,\n",
       "       [38.07086614, 19.        ,  0.53      ,  0.        ,  2.        ],\n",
       "       [34.68503937, 18.        ,  0.49      ,  1.        ,  1.        ],\n",
       "       [37.36220472, 17.6       ,  0.56      ,  0.        ,  1.        ]])"
      ]
     },
     "execution_count": 1364,
     "metadata": {},
     "output_type": "execute_result"
    }
   ],
   "source": [
    "X"
   ]
  },
  {
   "cell_type": "markdown",
   "metadata": {},
   "source": [
    "Splitting data into test and train sets"
   ]
  },
  {
   "cell_type": "code",
   "execution_count": 1365,
   "metadata": {},
   "outputs": [],
   "source": [
    "# splitting using 20% of data as the test set\n",
    "X_train, X_test, y_train, y_test = train_test_split(X, y, test_size = 0.2, random_state = 1)"
   ]
  },
  {
   "cell_type": "markdown",
   "metadata": {},
   "source": [
    "Training model using training set"
   ]
  },
  {
   "cell_type": "code",
   "execution_count": 1366,
   "metadata": {},
   "outputs": [
    {
     "data": {
      "text/plain": [
       "KNeighborsClassifier(n_neighbors=3)"
      ]
     },
     "execution_count": 1366,
     "metadata": {},
     "output_type": "execute_result"
    }
   ],
   "source": [
    "# training using three classifier algorithms to allow for comparison \n",
    "clf1 = LogisticRegression()\n",
    "clf1.fit(X_train, y_train)\n",
    "clf2 = RandomForestClassifier()\n",
    "clf2.fit(X_train, y_train)\n",
    "clf3 = KNeighborsClassifier(n_neighbors=3)\n",
    "clf3.fit(X_train, y_train)\n"
   ]
  },
  {
   "cell_type": "markdown",
   "metadata": {},
   "source": [
    "Evaluating performance of the classifiers "
   ]
  },
  {
   "cell_type": "code",
   "execution_count": 1367,
   "metadata": {},
   "outputs": [
    {
     "name": "stdout",
     "output_type": "stream",
     "text": [
      "LogRegression: 0.7906976744186046\n",
      "RandomForest: 0.8372093023255814\n",
      "KNeighbors: 0.8604651162790697\n",
      "Highest Accuracy -  KNeighbors: 0.8604651162790697\n"
     ]
    }
   ],
   "source": [
    "# evaluating performance of each algorithm and then selecting best based on the highest accuracy\n",
    "classifiers = [clf1, clf2, clf3]\n",
    "scores = [0,0,0]\n",
    "names = [\"LogRegression:\", \"RandomForest:\", \"KNeighbors:\" ]\n",
    "algorithms_dict = dict([(names[0],classifiers[0]), (names[1],classifiers[1]), (names[2],classifiers[2])])\n",
    "scores_dict = dict([(names[0],scores[0]), (names[1],scores[0]), (names[2],scores[0])])\n",
    "for i in names:\n",
    "    score = algorithms_dict[i].score(X_test, y_test)\n",
    "    #scores.append(score)\n",
    "    scores_dict.update({i : score})\n",
    "    #print (scores_dict)\n",
    "    print(i, score)\n",
    "bestalgo = max(scores_dict, key=scores_dict.get)\n",
    "print(\"Highest Accuracy - \", bestalgo, scores_dict[bestalgo])"
   ]
  },
  {
   "cell_type": "code",
   "execution_count": 1368,
   "metadata": {},
   "outputs": [],
   "source": [
    "# showing predictions and real target values side by side\n",
    "y_pred = algorithms_dict[bestalgo].predict(X_test)\n",
    "print(np.concatenate((y_pred.reshape(len(y_pred),1), y_test.reshape(len(y_test),1)),1))"
   ]
  },
  {
   "cell_type": "code",
   "execution_count": 1372,
   "metadata": {},
   "outputs": [
    {
     "data": {
      "text/plain": [
       "array([[15,  5],\n",
       "       [ 1, 22]], dtype=int64)"
      ]
     },
     "execution_count": 1372,
     "metadata": {},
     "output_type": "execute_result"
    }
   ],
   "source": [
    "# confusion matrix to show breakdown of predictions \n",
    "from sklearn.metrics import confusion_matrix\n",
    "confusion_matrix(y_test, y_pred)"
   ]
  }
 ],
 "metadata": {
  "kernelspec": {
   "display_name": "Python 3",
   "language": "python",
   "name": "python3"
  },
  "language_info": {
   "codemirror_mode": {
    "name": "ipython",
    "version": 3
   },
   "file_extension": ".py",
   "mimetype": "text/x-python",
   "name": "python",
   "nbconvert_exporter": "python",
   "pygments_lexer": "ipython3",
   "version": "3.8.5"
  }
 },
 "nbformat": 4,
 "nbformat_minor": 4
}
